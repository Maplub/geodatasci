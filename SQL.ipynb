{
  "nbformat": 4,
  "nbformat_minor": 0,
  "metadata": {
    "colab": {
      "name": "SQL.ipynb",
      "provenance": [],
      "collapsed_sections": [],
      "include_colab_link": true
    },
    "kernelspec": {
      "name": "python3",
      "display_name": "Python 3"
    }
  },
  "cells": [
    {
      "cell_type": "markdown",
      "metadata": {
        "id": "view-in-github",
        "colab_type": "text"
      },
      "source": [
        "<a href=\"https://colab.research.google.com/github/Maplub/geodatasci/blob/master/SQL.ipynb\" target=\"_parent\"><img src=\"https://colab.research.google.com/assets/colab-badge.svg\" alt=\"Open In Colab\"/></a>"
      ]
    },
    {
      "cell_type": "markdown",
      "metadata": {
        "id": "ixEcxDJPbGpe",
        "colab_type": "text"
      },
      "source": [
        "# SQL (in Python)"
      ]
    },
    {
      "cell_type": "markdown",
      "metadata": {
        "id": "lwXT-73jem4T",
        "colab_type": "text"
      },
      "source": [
        "Powerpoint แนะนำ Database อยู่ใน mycourseville"
      ]
    },
    {
      "cell_type": "markdown",
      "metadata": {
        "id": "hkA1-1vVkpSe",
        "colab_type": "text"
      },
      "source": [
        "เพื่อความง่าย แบบฝึกหัดนี้เราจะใช้ SQL ที่มีเป็น Library ใน Python อยู่แล้วในการเรียนคำสั่ง SQL แต่เวลาทำงานจริงเรามักจะลง software database ในเครื่องแล้วเขียน Python เชื่อมต่อ database ตัวนั้น ๆ (เช่น PostgreSQL จะใช้ library psycopg2 เป็นตัวเชื่อมต่อ)"
      ]
    },
    {
      "cell_type": "markdown",
      "metadata": {
        "id": "hvVbBVWZgLUr",
        "colab_type": "text"
      },
      "source": [
        "ให้ copy code ต่อไปนี้เพื่อรันใน colab ของตัวเองหรือใน Jupyter Notebook ของตัวเอง\n",
        "\n",
        "เป็นการสร้างตาราง 2 ตาราง จากตัวอย่างในเว็บ https://en.wikibooks.org/wiki/SQL_Exercises/The_computer_store"
      ]
    },
    {
      "cell_type": "markdown",
      "metadata": {
        "id": "Rs6cHhaY7iNp",
        "colab_type": "text"
      },
      "source": [
        "## 1.   สร้าง Database\n",
        "\n"
      ]
    },
    {
      "cell_type": "code",
      "metadata": {
        "id": "dfyUd1fUbFm7",
        "colab_type": "code",
        "colab": {
          "base_uri": "https://localhost:8080/",
          "height": 52
        },
        "outputId": "83b850cc-448b-4616-f3ae-76ec2bbe5f21"
      },
      "source": [
        "# CREATING THE TABLE\n",
        "import sqlite3\n",
        "\n",
        "conn = sqlite3.connect('sqltest.db')\n",
        "print(\"Opened database successfully\");\n",
        "\n",
        "conn.execute('''\n",
        "CREATE TABLE IF NOT EXISTS Manufacturers (\n",
        "\tCode INTEGER PRIMARY KEY NOT NULL,\n",
        "\tName CHAR(50) NOT NULL \n",
        ");''')\n",
        "\n",
        "conn.execute('''\n",
        "CREATE TABLE Products (\n",
        "\tCode INTEGER PRIMARY KEY NOT NULL,\n",
        "\tName CHAR(50) NOT NULL ,\n",
        "\tPrice REAL NOT NULL ,\n",
        "\tManufacturer INTEGER NOT NULL \n",
        "\t\tCONSTRAINT fk_Manufacturers_Code REFERENCES Manufacturers(Code));''')\n",
        "\n",
        "conn.commit()\n",
        "\n",
        "print(\"Table created successfully\");"
      ],
      "execution_count": 5,
      "outputs": [
        {
          "output_type": "stream",
          "text": [
            "Opened database successfully\n",
            "Table created successfully\n"
          ],
          "name": "stdout"
        }
      ]
    },
    {
      "cell_type": "markdown",
      "metadata": {
        "id": "JQC_sWjHEsDg",
        "colab_type": "text"
      },
      "source": [
        "keyword ที่ควรทราบ\n",
        "* PRIMARY KEY คือ คอลัมน์นั้นห้ามซ้ำ\n",
        "* NOT NULL คือ ห้ามว่าง\n",
        "* CONSTRAINT foreign_key_name REFERENCES main_table(key_column) คือสร้าง foreign key โยงสองตารางเข้าด้วยกัน ซึ่งในที่นี้คือให้คอลัมน์ Manufacturer โยงกับ code ในตาราง Manufacturer ผลในการกำหนด foreign key คือ จะไม่อนุญาตให้ทำการเพิ่ม code อื่น ๆ ที่ไม่ได้อยู่ในตาราง Manufacturer\n",
        "* commit คือการยืนยันคำสั่งก่อนหน้า เราจะสามารถ roll back กลับไปจุด commit ล่าสุดได้ ใช้กับคำสั่ง SQL ประเภท DML "
      ]
    },
    {
      "cell_type": "code",
      "metadata": {
        "id": "wunm5V1bfdPL",
        "colab_type": "code",
        "colab": {
          "base_uri": "https://localhost:8080/",
          "height": 34
        },
        "outputId": "e64e5da7-1caf-48e8-cf91-7f6ed002a282"
      },
      "source": [
        "# INSERT VALUES\n",
        "conn.execute(\"INSERT INTO Manufacturers(Code,Name) VALUES(1,'Sony');\")\n",
        "conn.execute(\"INSERT INTO Manufacturers(Code,Name) VALUES(2,'Creative Labs');\")\n",
        "conn.execute(\"INSERT INTO Manufacturers(Code,Name) VALUES(3,'Hewlett-Packard');\")\n",
        "conn.execute(\"INSERT INTO Manufacturers(Code,Name) VALUES(4,'Iomega');\")\n",
        "conn.execute(\"INSERT INTO Manufacturers(Code,Name) VALUES(5,'Fujitsu');\")\n",
        "conn.execute(\"INSERT INTO Manufacturers(Code,Name) VALUES(6,'Winchester');\")\n",
        "\n",
        "conn.execute(\"INSERT INTO Products(Code,Name,Price,Manufacturer) VALUES(1,'Hard drive',240,5);\")\n",
        "conn.execute(\"INSERT INTO Products(Code,Name,Price,Manufacturer) VALUES(2,'Memory',120,6);\")\n",
        "conn.execute(\"INSERT INTO Products(Code,Name,Price,Manufacturer) VALUES(3,'ZIP drive',150,4);\")\n",
        "conn.execute(\"INSERT INTO Products(Code,Name,Price,Manufacturer) VALUES(4,'Floppy disk',5,6);\")\n",
        "conn.execute(\"INSERT INTO Products(Code,Name,Price,Manufacturer) VALUES(5,'Monitor',240,1);\")\n",
        "conn.execute(\"INSERT INTO Products(Code,Name,Price,Manufacturer) VALUES(6,'DVD drive',180,2);\")\n",
        "conn.execute(\"INSERT INTO Products(Code,Name,Price,Manufacturer) VALUES(7,'CD drive',90,2);\")\n",
        "conn.execute(\"INSERT INTO Products(Code,Name,Price,Manufacturer) VALUES(8,'Printer',270,3);\")\n",
        "conn.execute(\"INSERT INTO Products(Code,Name,Price,Manufacturer) VALUES(9,'Toner cartridge',66,3);\")\n",
        "conn.execute(\"INSERT INTO Products(Code,Name,Price,Manufacturer) VALUES(10,'DVD burner',180,2);\")"
      ],
      "execution_count": 6,
      "outputs": [
        {
          "output_type": "execute_result",
          "data": {
            "text/plain": [
              "<sqlite3.Cursor at 0x7fc4cd2e77a0>"
            ]
          },
          "metadata": {
            "tags": []
          },
          "execution_count": 6
        }
      ]
    },
    {
      "cell_type": "markdown",
      "metadata": {
        "id": "CX1_NAx87uIR",
        "colab_type": "text"
      },
      "source": [
        "## 2.   ทดลอง query"
      ]
    },
    {
      "cell_type": "markdown",
      "metadata": {
        "id": "zL6wmDzE71V0",
        "colab_type": "text"
      },
      "source": [
        "เลือกทุกแถวทุกคอลัมน์มาจากตาราง\n",
        "\n",
        "เราสามารถเลือกทุกคอลัมน์ได้โดยใช้เครื่องหมาย *"
      ]
    },
    {
      "cell_type": "code",
      "metadata": {
        "id": "8GliaHHeiJON",
        "colab_type": "code",
        "colab": {
          "base_uri": "https://localhost:8080/",
          "height": 121
        },
        "outputId": "f200836b-f18e-4a09-bb62-35283e8f4eb6"
      },
      "source": [
        "for row in conn.execute(\"select * from Manufacturers\"):\n",
        "  print(row)"
      ],
      "execution_count": 7,
      "outputs": [
        {
          "output_type": "stream",
          "text": [
            "(1, 'Sony')\n",
            "(2, 'Creative Labs')\n",
            "(3, 'Hewlett-Packard')\n",
            "(4, 'Iomega')\n",
            "(5, 'Fujitsu')\n",
            "(6, 'Winchester')\n"
          ],
          "name": "stdout"
        }
      ]
    },
    {
      "cell_type": "code",
      "metadata": {
        "id": "C23oVqPEmLja",
        "colab_type": "code",
        "colab": {
          "base_uri": "https://localhost:8080/",
          "height": 191
        },
        "outputId": "a1f73762-b621-488b-889f-39133361cb93"
      },
      "source": [
        "for row in conn.execute(\"select * from Products\"):\n",
        "  print(row)"
      ],
      "execution_count": 8,
      "outputs": [
        {
          "output_type": "stream",
          "text": [
            "(1, 'Hard drive', 240.0, 5)\n",
            "(2, 'Memory', 120.0, 6)\n",
            "(3, 'ZIP drive', 150.0, 4)\n",
            "(4, 'Floppy disk', 5.0, 6)\n",
            "(5, 'Monitor', 240.0, 1)\n",
            "(6, 'DVD drive', 180.0, 2)\n",
            "(7, 'CD drive', 90.0, 2)\n",
            "(8, 'Printer', 270.0, 3)\n",
            "(9, 'Toner cartridge', 66.0, 3)\n",
            "(10, 'DVD burner', 180.0, 2)\n"
          ],
          "name": "stdout"
        }
      ]
    },
    {
      "cell_type": "markdown",
      "metadata": {
        "id": "C7tR_rP_KtQ0",
        "colab_type": "text"
      },
      "source": [
        "หรือจะใช้คำสั่ง fetchall() ก็ได้"
      ]
    },
    {
      "cell_type": "code",
      "metadata": {
        "id": "OY1KfRtHKl0i",
        "colab_type": "code",
        "colab": {
          "base_uri": "https://localhost:8080/",
          "height": 191
        },
        "outputId": "cc728ff3-78d4-470f-fc3c-ef4a25058364"
      },
      "source": [
        "conn.execute(\"SELECT * FROM Products\").fetchall()"
      ],
      "execution_count": 18,
      "outputs": [
        {
          "output_type": "execute_result",
          "data": {
            "text/plain": [
              "[(1, 'Hard drive', 240.0, 5),\n",
              " (2, 'Memory', 120.0, 6),\n",
              " (3, 'ZIP drive', 150.0, 4),\n",
              " (4, 'Floppy disk', 5.0, 6),\n",
              " (5, 'Monitor', 240.0, 1),\n",
              " (6, 'DVD drive', 180.0, 2),\n",
              " (7, 'CD drive', 90.0, 2),\n",
              " (8, 'Printer', 270.0, 3),\n",
              " (9, 'Toner cartridge', 66.0, 3),\n",
              " (10, 'DVD burner', 180.0, 2)]"
            ]
          },
          "metadata": {
            "tags": []
          },
          "execution_count": 18
        }
      ]
    },
    {
      "cell_type": "markdown",
      "metadata": {
        "id": "-H6Ii1ebLlB6",
        "colab_type": "text"
      },
      "source": [
        "เลือกแค่บางคอลัมน์"
      ]
    },
    {
      "cell_type": "code",
      "metadata": {
        "id": "lWZE65cKLnLi",
        "colab_type": "code",
        "colab": {
          "base_uri": "https://localhost:8080/",
          "height": 191
        },
        "outputId": "d92c33eb-74b5-4c73-d950-0233e5fdb391"
      },
      "source": [
        "conn.execute(\"select name,price from products\").fetchall()"
      ],
      "execution_count": 22,
      "outputs": [
        {
          "output_type": "execute_result",
          "data": {
            "text/plain": [
              "[('Hard drive', 240.0),\n",
              " ('Memory', 120.0),\n",
              " ('ZIP drive', 150.0),\n",
              " ('Floppy disk', 5.0),\n",
              " ('Monitor', 240.0),\n",
              " ('DVD drive', 180.0),\n",
              " ('CD drive', 90.0),\n",
              " ('Printer', 270.0),\n",
              " ('Toner cartridge', 66.0),\n",
              " ('DVD burner', 180.0)]"
            ]
          },
          "metadata": {
            "tags": []
          },
          "execution_count": 22
        }
      ]
    },
    {
      "cell_type": "markdown",
      "metadata": {
        "id": "_grLxZraL0F3",
        "colab_type": "text"
      },
      "source": [
        "ใส่เงื่อนไขเลือกแถว ใช้คำสั่ง where"
      ]
    },
    {
      "cell_type": "code",
      "metadata": {
        "id": "zk90R55IL3qL",
        "colab_type": "code",
        "colab": {
          "base_uri": "https://localhost:8080/",
          "height": 34
        },
        "outputId": "919700bc-e419-46cb-e582-b4d2f6ff9704"
      },
      "source": [
        "conn.execute(\"select name,price from products where name='Hard drive'\").fetchall()"
      ],
      "execution_count": 23,
      "outputs": [
        {
          "output_type": "execute_result",
          "data": {
            "text/plain": [
              "[('Hard drive', 240.0)]"
            ]
          },
          "metadata": {
            "tags": []
          },
          "execution_count": 23
        }
      ]
    },
    {
      "cell_type": "code",
      "metadata": {
        "id": "6CvUSwiOL-bY",
        "colab_type": "code",
        "colab": {
          "base_uri": "https://localhost:8080/",
          "height": 34
        },
        "outputId": "da80716a-0e7f-4f4a-f640-eb28147f9235"
      },
      "source": [
        "conn.execute(\"select name,price from products where name like 'Z%'\").fetchall()"
      ],
      "execution_count": 28,
      "outputs": [
        {
          "output_type": "execute_result",
          "data": {
            "text/plain": [
              "[('ZIP drive', 150.0)]"
            ]
          },
          "metadata": {
            "tags": []
          },
          "execution_count": 28
        }
      ]
    },
    {
      "cell_type": "code",
      "metadata": {
        "id": "EkLQuAv0MZME",
        "colab_type": "code",
        "colab": {
          "base_uri": "https://localhost:8080/",
          "height": 34
        },
        "outputId": "e490d2fd-5c5d-4a60-8be1-b89c2a19edb9"
      },
      "source": [
        "conn.execute(\"select name,price from products where name like '_I%'\").fetchall()"
      ],
      "execution_count": 30,
      "outputs": [
        {
          "output_type": "execute_result",
          "data": {
            "text/plain": [
              "[('ZIP drive', 150.0)]"
            ]
          },
          "metadata": {
            "tags": []
          },
          "execution_count": 30
        }
      ]
    },
    {
      "cell_type": "code",
      "metadata": {
        "id": "vx_e1RRfMl0T",
        "colab_type": "code",
        "colab": {
          "base_uri": "https://localhost:8080/",
          "height": 34
        },
        "outputId": "e3a45949-f408-47ea-aacb-2aeaf8ee5d6c"
      },
      "source": [
        "conn.execute(\"select name,price from products where name is NULL\").fetchall()"
      ],
      "execution_count": 31,
      "outputs": [
        {
          "output_type": "execute_result",
          "data": {
            "text/plain": [
              "[]"
            ]
          },
          "metadata": {
            "tags": []
          },
          "execution_count": 31
        }
      ]
    },
    {
      "cell_type": "markdown",
      "metadata": {
        "id": "RgFlCnrFMxfU",
        "colab_type": "text"
      },
      "source": [
        "เลือกสองตารางมาเชื่อมกัน"
      ]
    },
    {
      "cell_type": "code",
      "metadata": {
        "id": "sv3pgM1pMzXD",
        "colab_type": "code",
        "colab": {
          "base_uri": "https://localhost:8080/",
          "height": 191
        },
        "outputId": "a6e19b8d-3459-4e87-99e3-d5a8b3ca42a8"
      },
      "source": [
        "conn.execute(\"select p.name,p.price,p.manufacturer,m.name from products p, manufacturers m where p.manufacturer=m.code\").fetchall()"
      ],
      "execution_count": 34,
      "outputs": [
        {
          "output_type": "execute_result",
          "data": {
            "text/plain": [
              "[('Hard drive', 240.0, 5, 'Fujitsu'),\n",
              " ('Memory', 120.0, 6, 'Winchester'),\n",
              " ('ZIP drive', 150.0, 4, 'Iomega'),\n",
              " ('Floppy disk', 5.0, 6, 'Winchester'),\n",
              " ('Monitor', 240.0, 1, 'Sony'),\n",
              " ('DVD drive', 180.0, 2, 'Creative Labs'),\n",
              " ('CD drive', 90.0, 2, 'Creative Labs'),\n",
              " ('Printer', 270.0, 3, 'Hewlett-Packard'),\n",
              " ('Toner cartridge', 66.0, 3, 'Hewlett-Packard'),\n",
              " ('DVD burner', 180.0, 2, 'Creative Labs')]"
            ]
          },
          "metadata": {
            "tags": []
          },
          "execution_count": 34
        }
      ]
    },
    {
      "cell_type": "markdown",
      "metadata": {
        "id": "gzl6x67jqZar",
        "colab_type": "text"
      },
      "source": [
        "ดูชื่อ column"
      ]
    },
    {
      "cell_type": "code",
      "metadata": {
        "id": "sO8LyF5TqbH1",
        "colab_type": "code",
        "colab": {
          "base_uri": "https://localhost:8080/",
          "height": 86
        },
        "outputId": "61e2fdfa-5363-4a65-980c-5f74b3d1a250"
      },
      "source": [
        "for row in conn.execute(\"PRAGMA table_info(Products)\"):\n",
        "  print(row)"
      ],
      "execution_count": 9,
      "outputs": [
        {
          "output_type": "stream",
          "text": [
            "(0, 'Code', 'INTEGER', 1, None, 1)\n",
            "(1, 'Name', 'CHAR(50)', 1, None, 0)\n",
            "(2, 'Price', 'REAL', 1, None, 0)\n",
            "(3, 'Manufacturer', 'INTEGER', 1, None, 0)\n"
          ],
          "name": "stdout"
        }
      ]
    },
    {
      "cell_type": "code",
      "metadata": {
        "id": "OScjEPMwq-54",
        "colab_type": "code",
        "colab": {
          "base_uri": "https://localhost:8080/",
          "height": 52
        },
        "outputId": "ed7c5da4-9404-48bc-98be-a54287d7e32b"
      },
      "source": [
        "for row in conn.execute(\"PRAGMA table_info(Manufacturers)\"):\n",
        "  print(row)"
      ],
      "execution_count": 10,
      "outputs": [
        {
          "output_type": "stream",
          "text": [
            "(0, 'Code', 'INTEGER', 1, None, 1)\n",
            "(1, 'Name', 'CHAR(50)', 1, None, 0)\n"
          ],
          "name": "stdout"
        }
      ]
    },
    {
      "cell_type": "markdown",
      "metadata": {
        "id": "udlnRnTJpcYO",
        "colab_type": "text"
      },
      "source": [
        "เราสามารถสร้างตัวแปรขึ้นมา แล้วนำไปใส่ในคำสั่ง SQL ได้ ตามตัวอย่าง\n",
        "การสร้างเป็นตัวแปรทำให้เราทำให้เราสามารถสร้างระบบ interactive ได้"
      ]
    },
    {
      "cell_type": "code",
      "metadata": {
        "id": "uLL7XIe6pdNq",
        "colab_type": "code",
        "colab": {
          "base_uri": "https://localhost:8080/",
          "height": 34
        },
        "outputId": "d8402916-4301-492b-e75a-96f85d204945"
      },
      "source": [
        "n=('ZIP drive',)\n",
        "for row in conn.execute(\"select * from Products where Name=?\",n):\n",
        "  print(row)"
      ],
      "execution_count": 11,
      "outputs": [
        {
          "output_type": "stream",
          "text": [
            "(3, 'ZIP drive', 150.0, 4)\n"
          ],
          "name": "stdout"
        }
      ]
    },
    {
      "cell_type": "markdown",
      "metadata": {
        "id": "yaGg_CSvDgnk",
        "colab_type": "text"
      },
      "source": [
        "ถ้าเราจะมีหลาย ๆ ตัวแปร ก็ต้องใช้คำสั่ง executemany"
      ]
    },
    {
      "cell_type": "code",
      "metadata": {
        "id": "WpxqyEGnDjgj",
        "colab_type": "code",
        "colab": {
          "base_uri": "https://localhost:8080/",
          "height": 34
        },
        "outputId": "fadbb9f4-14a5-4b94-93d8-418a96f0500c"
      },
      "source": [
        "manus = [(7, 'Sandisk'),\n",
        "         (8, 'Kingston')]\n",
        "conn.executemany('INSERT INTO Manufacturers VALUES (?,?)', manus)"
      ],
      "execution_count": 14,
      "outputs": [
        {
          "output_type": "execute_result",
          "data": {
            "text/plain": [
              "<sqlite3.Cursor at 0x7fc4cd2e7c00>"
            ]
          },
          "metadata": {
            "tags": []
          },
          "execution_count": 14
        }
      ]
    },
    {
      "cell_type": "markdown",
      "metadata": {
        "id": "M_6NvpgjDIVi",
        "colab_type": "text"
      },
      "source": [
        "## 3. การใช้งานกับ pandas"
      ]
    },
    {
      "cell_type": "markdown",
      "metadata": {
        "id": "U3UU0La9mwDr",
        "colab_type": "text"
      },
      "source": [
        "นำข้อมูลที่ได้จากการ query ไปใส่ไว้ใน dataframe ของ pandas"
      ]
    },
    {
      "cell_type": "code",
      "metadata": {
        "id": "CQ4hEbd6mlra",
        "colab_type": "code",
        "colab": {}
      },
      "source": [
        "import pandas as pd"
      ],
      "execution_count": 16,
      "outputs": []
    },
    {
      "cell_type": "code",
      "metadata": {
        "id": "hhUd_vxrmRn2",
        "colab_type": "code",
        "colab": {}
      },
      "source": [
        "df = pd.read_sql_query(\"SELECT * from Products\", conn)"
      ],
      "execution_count": null,
      "outputs": []
    },
    {
      "cell_type": "markdown",
      "metadata": {
        "id": "cSyOwEXOpTEK",
        "colab_type": "text"
      },
      "source": [
        "เอาผลใส่ใน dataframe ทำให้พิมพ์ออกมาสวยกว่า"
      ]
    },
    {
      "cell_type": "code",
      "metadata": {
        "id": "wiM_2yF6m8ON",
        "colab_type": "code",
        "colab": {
          "base_uri": "https://localhost:8080/",
          "height": 363
        },
        "outputId": "5ec0c3b1-0620-441b-fee8-550307359de6"
      },
      "source": [
        "df"
      ],
      "execution_count": null,
      "outputs": [
        {
          "output_type": "execute_result",
          "data": {
            "text/html": [
              "<div>\n",
              "<style scoped>\n",
              "    .dataframe tbody tr th:only-of-type {\n",
              "        vertical-align: middle;\n",
              "    }\n",
              "\n",
              "    .dataframe tbody tr th {\n",
              "        vertical-align: top;\n",
              "    }\n",
              "\n",
              "    .dataframe thead th {\n",
              "        text-align: right;\n",
              "    }\n",
              "</style>\n",
              "<table border=\"1\" class=\"dataframe\">\n",
              "  <thead>\n",
              "    <tr style=\"text-align: right;\">\n",
              "      <th></th>\n",
              "      <th>Code</th>\n",
              "      <th>Name</th>\n",
              "      <th>Price</th>\n",
              "      <th>Manufacturer</th>\n",
              "    </tr>\n",
              "  </thead>\n",
              "  <tbody>\n",
              "    <tr>\n",
              "      <th>0</th>\n",
              "      <td>1</td>\n",
              "      <td>Hard drive</td>\n",
              "      <td>240.0</td>\n",
              "      <td>5</td>\n",
              "    </tr>\n",
              "    <tr>\n",
              "      <th>1</th>\n",
              "      <td>2</td>\n",
              "      <td>Memory</td>\n",
              "      <td>120.0</td>\n",
              "      <td>6</td>\n",
              "    </tr>\n",
              "    <tr>\n",
              "      <th>2</th>\n",
              "      <td>3</td>\n",
              "      <td>ZIP drive</td>\n",
              "      <td>150.0</td>\n",
              "      <td>4</td>\n",
              "    </tr>\n",
              "    <tr>\n",
              "      <th>3</th>\n",
              "      <td>4</td>\n",
              "      <td>Floppy disk</td>\n",
              "      <td>5.0</td>\n",
              "      <td>6</td>\n",
              "    </tr>\n",
              "    <tr>\n",
              "      <th>4</th>\n",
              "      <td>5</td>\n",
              "      <td>Monitor</td>\n",
              "      <td>240.0</td>\n",
              "      <td>1</td>\n",
              "    </tr>\n",
              "    <tr>\n",
              "      <th>5</th>\n",
              "      <td>6</td>\n",
              "      <td>DVD drive</td>\n",
              "      <td>180.0</td>\n",
              "      <td>2</td>\n",
              "    </tr>\n",
              "    <tr>\n",
              "      <th>6</th>\n",
              "      <td>7</td>\n",
              "      <td>CD drive</td>\n",
              "      <td>90.0</td>\n",
              "      <td>2</td>\n",
              "    </tr>\n",
              "    <tr>\n",
              "      <th>7</th>\n",
              "      <td>8</td>\n",
              "      <td>Printer</td>\n",
              "      <td>270.0</td>\n",
              "      <td>3</td>\n",
              "    </tr>\n",
              "    <tr>\n",
              "      <th>8</th>\n",
              "      <td>9</td>\n",
              "      <td>Toner cartridge</td>\n",
              "      <td>66.0</td>\n",
              "      <td>3</td>\n",
              "    </tr>\n",
              "    <tr>\n",
              "      <th>9</th>\n",
              "      <td>10</td>\n",
              "      <td>DVD burner</td>\n",
              "      <td>180.0</td>\n",
              "      <td>2</td>\n",
              "    </tr>\n",
              "  </tbody>\n",
              "</table>\n",
              "</div>"
            ],
            "text/plain": [
              "   Code             Name  Price  Manufacturer\n",
              "0     1       Hard drive  240.0             5\n",
              "1     2           Memory  120.0             6\n",
              "2     3        ZIP drive  150.0             4\n",
              "3     4      Floppy disk    5.0             6\n",
              "4     5          Monitor  240.0             1\n",
              "5     6        DVD drive  180.0             2\n",
              "6     7         CD drive   90.0             2\n",
              "7     8          Printer  270.0             3\n",
              "8     9  Toner cartridge   66.0             3\n",
              "9    10       DVD burner  180.0             2"
            ]
          },
          "metadata": {
            "tags": []
          },
          "execution_count": 12
        }
      ]
    },
    {
      "cell_type": "markdown",
      "metadata": {
        "id": "lCCWFw-MILOF",
        "colab_type": "text"
      },
      "source": [
        "อ่านเพิ่มที่นี่\n",
        "https://datacarpentry.org/python-ecology-lesson/09-working-with-sql/index.html"
      ]
    },
    {
      "cell_type": "markdown",
      "metadata": {
        "id": "i5-LEBcAJe2Z",
        "colab_type": "text"
      },
      "source": [
        "ถ้าจะทำย้อนกลับคือ เอาข้อมูลใน dataframe ไปใส่ใน SQLite ก็ให้ทำตามนี้"
      ]
    },
    {
      "cell_type": "code",
      "metadata": {
        "id": "jhmNuQrkJppP",
        "colab_type": "code",
        "colab": {}
      },
      "source": [
        "#ตัวอย่างจาก https://datatofish.com/create-pandas-dataframe/\n",
        "cars = {'Brand': ['Honda Civic','Toyota Corolla','Ford Focus','Audi A4'],\n",
        "        'Price': [22000,25000,27000,35000]\n",
        "        }\n",
        "\n",
        "df = pd.DataFrame(cars, columns = ['Brand', 'Price'])"
      ],
      "execution_count": 19,
      "outputs": []
    },
    {
      "cell_type": "code",
      "metadata": {
        "id": "vdjjpjxRJ_i8",
        "colab_type": "code",
        "colab": {}
      },
      "source": [
        "df.to_sql('cars', con=conn, if_exists='append')"
      ],
      "execution_count": 20,
      "outputs": []
    },
    {
      "cell_type": "code",
      "metadata": {
        "id": "pTnRfMvEK7kq",
        "colab_type": "code",
        "colab": {
          "base_uri": "https://localhost:8080/",
          "height": 86
        },
        "outputId": "075dbcaa-6817-4c06-c461-e061572285e8"
      },
      "source": [
        "conn.execute(\"select * from cars\").fetchall()"
      ],
      "execution_count": 21,
      "outputs": [
        {
          "output_type": "execute_result",
          "data": {
            "text/plain": [
              "[(0, 'Honda Civic', 22000),\n",
              " (1, 'Toyota Corolla', 25000),\n",
              " (2, 'Ford Focus', 27000),\n",
              " (3, 'Audi A4', 35000)]"
            ]
          },
          "metadata": {
            "tags": []
          },
          "execution_count": 21
        }
      ]
    },
    {
      "cell_type": "markdown",
      "metadata": {
        "id": "SPJB5aW5Gizg",
        "colab_type": "text"
      },
      "source": [
        "## 4. ประเภทของคำสั่ง SQL"
      ]
    },
    {
      "cell_type": "markdown",
      "metadata": {
        "id": "FqN3BSprGr-K",
        "colab_type": "text"
      },
      "source": [
        "*   DDL(Data Definition Language) คำสั่งจัดการโครงสร้างตาราง เช่น เพิ่ม/ลด คอลัมน์ เปลี่ยนชื่อตาราง\n",
        "*   DQL (Data Query Language) คำสั่ง select\n",
        "*   DML(Data Manipulation Language) คำสั่งเพิ่ม ลด แก้ไข ข้อมูลในตาราง\n",
        "*   DCL(Data Control Language) คำสั่งให้สิทธิ์หรือถอนสิทธิผู้ใช้งาน\n",
        "*   TCL(transaction Control Language) คำสังจัดการ transaction เช่นการ commit/rollback \n",
        "\n"
      ]
    },
    {
      "cell_type": "markdown",
      "metadata": {
        "id": "jXdrVmQNGmkS",
        "colab_type": "text"
      },
      "source": [
        "https://www.geeksforgeeks.org/sql-ddl-dql-dml-dcl-tcl-commands/"
      ]
    },
    {
      "cell_type": "markdown",
      "metadata": {
        "id": "afe-zkyE8tNR",
        "colab_type": "text"
      },
      "source": [
        "<font color=\"pink\">การใช้คำสั่ง SQL ในภาษาใด ๆ จะต้องสร้าง SQL เป็น String ก่อนแล้วใช้คำสั่งของโปรแกรมนั้น ๆ run คำสั่ง SQL ซึ่งมันก็จะดูยุ่ง ๆ หน่อย </font>\n",
        "\n",
        "<font color=\"pink\">หากเราไม่ต้องการจะวุ่นวาย เราสามารถใช้ software ที่เป็นตัว GUI จัดการฐานข้อมูลได้ อย่างเช่น</font> https://www.toadworld.com/downloads <font color=\"pink\">หรือตัวอื่น ๆ ได้ ซึ่งการใช้ Graphic User Interface (GUI) จะทำให้เราสามารถพิมพ์แค่คำสั่ง SQL ในช่องแล้วสั่ง run ได้เลย</font>"
      ]
    },
    {
      "cell_type": "markdown",
      "metadata": {
        "id": "kXEaL_6FO0dY",
        "colab_type": "text"
      },
      "source": [
        "# <font color=\"red\">การบ้าน (15 คะแนน) </font>"
      ]
    },
    {
      "cell_type": "markdown",
      "metadata": {
        "id": "wiyZAewvNvga",
        "colab_type": "text"
      },
      "source": [
        "<font color=\"red\">ให้ออกแบบฐานข้อมูลสำหรับเก็บข้อมูลฝุ่นละอองและอุณหภูมิจากเซ็นเซอร์ 5 ตัว\n",
        "โดยเซ็นเซอร์ทุกตัวจะเก็บข้อมูลฝุ่นทุก ๆ ชั่วโมง\n",
        "\n",
        "ใส่ข้อมูลสมมติไว้เซ็นเซอร์ละ 3 ค่า และให้เซ็นเซอร์มีหมายเลขอ้างอิงและข้อมูลประกอบอื่น ๆ (เช่นชื่อสถานที่ เป็นต้น) ด้วย</font>"
      ]
    },
    {
      "cell_type": "markdown",
      "metadata": {
        "id": "_INBzFsdQxMM",
        "colab_type": "text"
      },
      "source": [
        "<font color=\"red\"> สิ่งที่ต้องส่ง </font>\n",
        "* <font color=\"red\"> วาด ER diagram  </font>\n",
        "* <font color=\"red\"> code สร้างฐานข้อมูลด้วย python  </font>\n",
        "* <font color=\"red\"> select ข้อมูลมาโดยการเชื่อมสองตารางให้ดู โดยเอาไปใส่ใน pandas ก่อนแสดงข้อมูลเพื่อให้ดูง่าย  </font>"
      ]
    },
    {
      "cell_type": "markdown",
      "metadata": {
        "id": "sj9F7JN0QSe7",
        "colab_type": "text"
      },
      "source": [
        "<font color=\"red\">ส่งเป็น jupyter notebook ใน github โดยให้ใส่ ER diagram เอาไว้ด้วย และให้เขียนอธิบายขั้นตอนให้เรียบร้อยด้วย</font>"
      ]
    }
  ]
}